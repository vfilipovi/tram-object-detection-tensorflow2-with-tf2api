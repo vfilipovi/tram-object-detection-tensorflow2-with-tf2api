{
  "nbformat": 4,
  "nbformat_minor": 0,
  "metadata": {
    "colab": {
      "name": "tf-od.ipynb",
      "provenance": [],
      "collapsed_sections": []
    },
    "kernelspec": {
      "name": "python3",
      "display_name": "Python 3"
    },
    "language_info": {
      "name": "python"
    },
    "accelerator": "GPU"
  },
  "cells": [
    {
      "cell_type": "markdown",
      "metadata": {
        "id": "x_mhWzc1h3if"
      },
      "source": [
        "## **Mount Google Drive**"
      ]
    },
    {
      "cell_type": "code",
      "metadata": {
        "colab": {
          "base_uri": "https://localhost:8080/"
        },
        "id": "BqR6XtnohzaG",
        "outputId": "447ea032-2c54-4e7b-c059-dfc2d5b8521d"
      },
      "source": [
        "from google.colab import drive\n",
        "drive.mount('/content/gdrive')\n"
      ],
      "execution_count": null,
      "outputs": [
        {
          "output_type": "stream",
          "name": "stdout",
          "text": [
            "Mounted at /content/gdrive\n"
          ]
        }
      ]
    },
    {
      "cell_type": "markdown",
      "metadata": {
        "id": "6lk9-uc2iSME"
      },
      "source": [
        "# **Download TensorFlow Model Garden**"
      ]
    },
    {
      "cell_type": "code",
      "metadata": {
        "colab": {
          "base_uri": "https://localhost:8080/"
        },
        "id": "4axwdayhiSVM",
        "outputId": "ecf90de9-8768-4a74-b17b-239f12fd59a1"
      },
      "source": [
        "#cd into the TensorFlow directory in your Google Drive and clone the TensorFlow Model Garden repository\n",
        "\n",
        "%cd '/content/gdrive/MyDrive/TensorFlow'\n",
        "\n",
        "import tensorflow as tf\n",
        "\n",
        "#Check for GPU\n",
        "!nvidia-smi"
      ],
      "execution_count": null,
      "outputs": [
        {
          "output_type": "stream",
          "name": "stdout",
          "text": [
            "/content/gdrive/MyDrive/TensorFlow\n",
            "Tue Sep 14 13:19:58 2021       \n",
            "+-----------------------------------------------------------------------------+\n",
            "| NVIDIA-SMI 470.63.01    Driver Version: 460.32.03    CUDA Version: 11.2     |\n",
            "|-------------------------------+----------------------+----------------------+\n",
            "| GPU  Name        Persistence-M| Bus-Id        Disp.A | Volatile Uncorr. ECC |\n",
            "| Fan  Temp  Perf  Pwr:Usage/Cap|         Memory-Usage | GPU-Util  Compute M. |\n",
            "|                               |                      |               MIG M. |\n",
            "|===============================+======================+======================|\n",
            "|   0  Tesla K80           Off  | 00000000:00:04.0 Off |                    0 |\n",
            "| N/A   53C    P8    30W / 149W |      0MiB / 11441MiB |      0%      Default |\n",
            "|                               |                      |                  N/A |\n",
            "+-------------------------------+----------------------+----------------------+\n",
            "                                                                               \n",
            "+-----------------------------------------------------------------------------+\n",
            "| Processes:                                                                  |\n",
            "|  GPU   GI   CI        PID   Type   Process name                  GPU Memory |\n",
            "|        ID   ID                                                   Usage      |\n",
            "|=============================================================================|\n",
            "|  No running processes found                                                 |\n",
            "+-----------------------------------------------------------------------------+\n"
          ]
        }
      ]
    },
    {
      "cell_type": "code",
      "metadata": {
        "id": "i33skSNOkFKp"
      },
      "source": [
        "!git clone https://github.com/tensorflow/models.git \n",
        "%cd '/content/gdrive/MyDrive/TensorFlow/models'\n",
        "!git checkout -f e04dafd04d69053d3733bb91d47d0d95bc2c8199"
      ],
      "execution_count": null,
      "outputs": []
    },
    {
      "cell_type": "markdown",
      "metadata": {
        "id": "awA7HzcCk4xp"
      },
      "source": [
        "# **Installation of additional tools**"
      ]
    },
    {
      "cell_type": "code",
      "metadata": {
        "id": "spEcSPRPlNOx"
      },
      "source": [
        "!apt-get install protobuf-compiler python-lxml python-pil\n",
        "!pip install Cython pandas tf-slim lvis"
      ],
      "execution_count": null,
      "outputs": []
    },
    {
      "cell_type": "markdown",
      "metadata": {
        "id": "tytus-aqlooR"
      },
      "source": [
        "# **Compile Protobuf library**"
      ]
    },
    {
      "cell_type": "code",
      "metadata": {
        "colab": {
          "base_uri": "https://localhost:8080/"
        },
        "id": "-Huhc5volo3c",
        "outputId": "8c10d024-52a0-4eba-e55c-55dd1031c4b0"
      },
      "source": [
        "#cd into 'TensorFlow/models/research'\n",
        "%cd '/content/gdrive/My Drive/TensorFlow/models/research/'\n",
        "\n",
        "!protoc object_detection/protos/*.proto --python_out=."
      ],
      "execution_count": null,
      "outputs": [
        {
          "output_type": "stream",
          "name": "stdout",
          "text": [
            "/content/gdrive/My Drive/TensorFlow/models/research\n"
          ]
        }
      ]
    },
    {
      "cell_type": "markdown",
      "metadata": {
        "id": "3Dflcacrl1JE"
      },
      "source": [
        "# **Set the enviroment**"
      ]
    },
    {
      "cell_type": "code",
      "metadata": {
        "id": "RACsl5Vsl1Pu"
      },
      "source": [
        "import os\n",
        "import sys\n",
        "\n",
        "os.environ['PYTHONPATH']+=\":/content/gdrive/My Drive/TensorFlow/models\"\n",
        "\n",
        "sys.path.append(\"/content/gdrive/My Drive/TensorFlow/models/research\")"
      ],
      "execution_count": null,
      "outputs": []
    },
    {
      "cell_type": "markdown",
      "metadata": {
        "id": "9FMvzUg7mE9F"
      },
      "source": [
        "# **Installation - setup.py**"
      ]
    },
    {
      "cell_type": "code",
      "metadata": {
        "id": "G4QwXVHVmFEo"
      },
      "source": [
        "!python setup.py build\n",
        "!python setup.py install"
      ],
      "execution_count": null,
      "outputs": []
    },
    {
      "cell_type": "markdown",
      "metadata": {
        "id": "tH0AnyD2mQvJ"
      },
      "source": [
        "# **Installation check**"
      ]
    },
    {
      "cell_type": "code",
      "metadata": {
        "id": "bSHQsR_mmQ2V"
      },
      "source": [
        "\n",
        "#Position to 'TensorFlow/models/research/object_detection/builders/'\n",
        "%cd '/content/gdrive/My Drive/TensorFlow/models/research/object_detection/builders/'\n",
        "!python model_builder_tf2_test.py\n",
        "from object_detection.utils import label_map_util\n",
        "from object_detection.utils import visualization_utils as viz_utils\n",
        "print('Done')"
      ],
      "execution_count": null,
      "outputs": []
    },
    {
      "cell_type": "markdown",
      "metadata": {
        "id": "5p6z_NUpm4fx"
      },
      "source": [
        "**Additional steps:**\n",
        "\n",
        "1: Copy the “model_main_tf2.py” file from “TensorFlow\\models\\research\\object_detection” and paste it in workspace\n",
        "\n",
        "2: Copy the “exporter_main_v2.py” file from “TensorFlow\\models\\research\\object_detection” and paste it in workspace"
      ]
    },
    {
      "cell_type": "markdown",
      "metadata": {
        "id": "t0MsGg7Ery9I"
      },
      "source": [
        "# **Start TensorBoard (start it after finished training)**"
      ]
    },
    {
      "cell_type": "code",
      "metadata": {
        "id": "9M2gEJerr2h9"
      },
      "source": [
        "#Position to workspace\n",
        "%cd '/content/gdrive/My Drive/TensorFlow/workspace'\n",
        "#Start tensorboarda\n",
        "%load_ext tensorboard\n",
        "%tensorboard --logdir=models/[name_of_model]"
      ],
      "execution_count": null,
      "outputs": []
    },
    {
      "cell_type": "code",
      "metadata": {
        "colab": {
          "base_uri": "https://localhost:8080/"
        },
        "id": "YyESoqkX9lYr",
        "outputId": "05c02d5c-572b-4f7b-9849-e1c4c4a6fd01"
      },
      "source": [
        "#Position to workspace\n",
        "%cd '/content/gdrive/My Drive/TensorFlow/workspace'"
      ],
      "execution_count": null,
      "outputs": [
        {
          "output_type": "stream",
          "name": "stdout",
          "text": [
            "/content/gdrive/My Drive/TensorFlow/workspace\n"
          ]
        }
      ]
    },
    {
      "cell_type": "markdown",
      "metadata": {
        "id": "5cWcLsB2sGIR"
      },
      "source": [
        "# **Train the model**"
      ]
    },
    {
      "cell_type": "code",
      "metadata": {
        "id": "psz0_G0-sDAk"
      },
      "source": [
        "!python model_main_tf2.py --model_dir=models/efficientdet-d0-250slika --pipeline_config_path=models/efficientdet-d0-250slika/pipeline.config\n",
        "\n",
        "# !python model_main_tf2.py --model_dir=models/\"name_of_model\" --pipeline_config_path=models/\"name_of_model\"/pipeline.config"
      ],
      "execution_count": null,
      "outputs": []
    },
    {
      "cell_type": "markdown",
      "metadata": {
        "id": "87Jc5r1xeGRx"
      },
      "source": [
        "# **Export trained model**"
      ]
    },
    {
      "cell_type": "code",
      "metadata": {
        "id": "npTaBbkJeH-t"
      },
      "source": [
        "!python exporter_main_v2.py --input_type image_tensor --pipeline_config_path models/efficientdet-d0-250slika/pipeline.config --trained_checkpoint_dir models/efficientdet-d0-250slika/ --output_directory exported-models/my_model_efficientdet-d0-250slika\n",
        "\n",
        "# !python exporter_main_v2.py --input_type image_tensor --pipeline_config_path models/\"name_of_model\"/pipeline.config --trained_checkpoint_dir models/\"name_of_model\"/ --output_directory exported-models/my_model_\"name_of_model\""
      ],
      "execution_count": null,
      "outputs": []
    },
    {
      "cell_type": "markdown",
      "metadata": {
        "id": "7k38GGf4q26j"
      },
      "source": [
        "# **Evaluation - in my case it doesn't work on Google collab, only locally**"
      ]
    },
    {
      "cell_type": "code",
      "metadata": {
        "colab": {
          "base_uri": "https://localhost:8080/",
          "height": 173
        },
        "id": "0DGDagtBq7b8",
        "outputId": "b85e6750-96d7-4ec0-e52c-abcd744e7bad"
      },
      "source": [
        "#Doesn't work on Collab, works when run on PC locally\n",
        "python model_main_tf2.py \\\n",
        "   --model_dir=models/\"name_of_model\" \\\n",
        "   --pipeline_config_path=models/\"name_of_model\"/pipeline.config \\\n",
        "   --checkpoint_dir=models/\"name_of_model\"\n",
        "\n"
      ],
      "execution_count": null,
      "outputs": [
        {
          "output_type": "error",
          "ename": "SyntaxError",
          "evalue": "ignored",
          "traceback": [
            "\u001b[0;36m  File \u001b[0;32m\"<ipython-input-21-fc8fddf08735>\"\u001b[0;36m, line \u001b[0;32m1\u001b[0m\n\u001b[0;31m    python model_main_tf2.py    --model_dir=models/efficientdet-d0-250slika    --pipeline_config_path=models/efficientdet-d0-250slika/pipeline.config    --checkpoint_dir=models/efficientdet-d0-250slika\u001b[0m\n\u001b[0m                        ^\u001b[0m\n\u001b[0;31mSyntaxError\u001b[0m\u001b[0;31m:\u001b[0m invalid syntax\n"
          ]
        }
      ]
    },
    {
      "cell_type": "markdown",
      "metadata": {
        "id": "BS-fap5NmhfK"
      },
      "source": [
        "# **Testing**"
      ]
    },
    {
      "cell_type": "code",
      "metadata": {
        "id": "isa-cgvvmip3"
      },
      "source": [
        "import tensorflow as tf\n",
        "import time\n",
        "from object_detection.utils import label_map_util\n",
        "from object_detection.utils import visualization_utils as viz_utils\n",
        "\n",
        "PATH_TO_SAVED_MODEL=\"/content/gdrive/MyDrive/TensorFlow/workspace/exported-models/my_model_name_of_model/saved_model\"\n",
        "\n",
        "print('Loading the model...', end='')\n",
        "\n",
        "#Load saved model and start inference\n",
        "detect_fn=tf.saved_model.load(PATH_TO_SAVED_MODEL)\n",
        "\n",
        "print('Done!')"
      ],
      "execution_count": null,
      "outputs": []
    },
    {
      "cell_type": "markdown",
      "metadata": {
        "id": "9jKD88I8nNe4"
      },
      "source": [
        "# **Testing (Loading label_map)**"
      ]
    },
    {
      "cell_type": "code",
      "metadata": {
        "id": "sn8DI3rEnPv9"
      },
      "source": [
        "category_index=label_map_util.create_category_index_from_labelmap(\"/content/gdrive/My Drive/TensorFlow/workspace/annotations/label_map.pbtxt\",use_display_name=True)"
      ],
      "execution_count": null,
      "outputs": []
    },
    {
      "cell_type": "markdown",
      "metadata": {
        "id": "qtkWUQqtoTXj"
      },
      "source": [
        "# **Testing (Image loading)**"
      ]
    },
    {
      "cell_type": "code",
      "metadata": {
        "id": "KdJkkr1goTgq"
      },
      "source": [
        "#Position to workspace\n",
        "%cd '/content/gdrive/My Drive/TensorFlow/workspace'\n",
        "\n",
        "#image loading\n",
        "img=['/content/gdrive/My Drive/TensorFlow/workspace/inference/img1.jpg',\n",
        "     '/content/gdrive/My Drive/TensorFlow/workspace/inference/img4.jpg'\n",
        "     ]\n",
        "\n",
        "#print paths of loaded images\n",
        "print(img)"
      ],
      "execution_count": null,
      "outputs": []
    },
    {
      "cell_type": "markdown",
      "metadata": {
        "id": "A48Sv_BJpStW"
      },
      "source": [
        "# **Running the inference**"
      ]
    },
    {
      "cell_type": "code",
      "metadata": {
        "id": "L3xcXV1bpT6h"
      },
      "source": [
        "import numpy as np\n",
        "from PIL import Image\n",
        "import matplotlib.pyplot as plt\n",
        "import warnings\n",
        "warnings.filterwarnings('ignore')\n",
        "\n",
        "def load_image_into_numpy_array(path):\n",
        "    return np.array(Image.open(path))\n",
        "    \n",
        "for image_path in img:\n",
        "  print('Pokretanje detekcija za {}... '.format(image_path), end='')\n",
        "  image_np=load_image_into_numpy_array(image_path)\n",
        "    \n",
        "  input_tensor=tf.convert_to_tensor(image_np)\n",
        "  input_tensor=input_tensor[tf.newaxis, ...]\n",
        "    \n",
        "  detections=detect_fn(input_tensor)\n",
        "    \n",
        "  num_detections=int(detections.pop('num_detections'))\n",
        "  detections={key:value[0,:num_detections].numpy()\n",
        "                   for key,value in detections.items()}\n",
        "\n",
        "  detections['num_detections']=num_detections\n",
        "  detections['detection_classes']= detections['detection_classes'].astype(np.int64)\n",
        "                \n",
        "  image_np_with_detections=image_np.copy()\n",
        "\n",
        "  viz_utils.visualize_boxes_and_labels_on_image_array(\n",
        "          image_np_with_detections,\n",
        "          detections['detection_boxes'],\n",
        "          detections['detection_classes'],\n",
        "          detections['detection_scores'],\n",
        "          category_index,\n",
        "          use_normalized_coordinates=True,\n",
        "          max_boxes_to_draw=100,     \n",
        "          min_score_thresh=.5,      \n",
        "          agnostic_mode=False)\n",
        "          \n",
        "  %matplotlib inline\n",
        "  plt.figure()\n",
        "  plt.imshow(image_np_with_detections)\n",
        "  print('Done')\n",
        "  plt.show()"
      ],
      "execution_count": null,
      "outputs": []
    }
  ]
}